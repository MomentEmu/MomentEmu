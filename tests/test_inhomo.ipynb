{
 "cells": [
  {
   "cell_type": "code",
   "execution_count": 1,
   "id": "5d9d0df4",
   "metadata": {},
   "outputs": [],
   "source": [
    "from MomentEmu.PolyEmu import PolyEmu\n",
    "import numpy as np"
   ]
  },
  {
   "cell_type": "code",
   "execution_count": 2,
   "id": "58f16286",
   "metadata": {},
   "outputs": [
    {
     "name": "stdout",
     "output_type": "stream",
     "text": [
      "Using MomentEmu from: /Users/zzhang/Workspace/MomentEmu/src/MomentEmu\n"
     ]
    }
   ],
   "source": [
    "# print the path to verify the correct module is imported\n",
    "import MomentEmu\n",
    "import os\n",
    "print(\"Using MomentEmu from:\", os.path.dirname(os.path.abspath(MomentEmu.__file__)))\n"
   ]
  },
  {
   "cell_type": "code",
   "execution_count": 3,
   "id": "bc41dae4",
   "metadata": {},
   "outputs": [
    {
     "data": {
      "text/plain": [
       "(500, 2)"
      ]
     },
     "execution_count": 3,
     "metadata": {},
     "output_type": "execute_result"
    }
   ],
   "source": [
    "X_train = np.random.uniform(1, 2, (500, 2))\n",
    "Y_train1 = (X_train[:, 0]**2 + X_train[:, 1]**2).reshape(-1, 1)\n",
    "Y_train2 = (X_train[:, 0]**3 + X_train[:, 1]).reshape(-1, 1)\n",
    "Y_train = np.hstack((Y_train1, Y_train2))\n",
    "X_train.shape"
   ]
  },
  {
   "cell_type": "code",
   "execution_count": 4,
   "id": "d6933d9e",
   "metadata": {},
   "outputs": [
    {
     "name": "stdout",
     "output_type": "stream",
     "text": [
      "Generating forward emulator...\n",
      "Set max_degree_forward to 31. Otherwise, a higher degree will require more samples.\n",
      "Forward emulator generated with degree 3, RMSE_val of 3.63955677904672e-15.\n",
      "Performing dimension reduction...\n",
      "Dimension reduced  from 10 modes to 6 modes.\n",
      "After the dimension reduction, the RMSE: 1.5928670500344365e-15, AIC: -34061.240826326655, BIC: -34035.95317773612\n"
     ]
    }
   ],
   "source": [
    "emulator = PolyEmu(X_train, Y_train, forward=True, cross_validation=False, backward=False, standardize_Y_with_std=False)\n"
   ]
  },
  {
   "cell_type": "code",
   "execution_count": 5,
   "id": "292fbee3",
   "metadata": {},
   "outputs": [
    {
     "data": {
      "text/plain": [
       "[7.27506866552601e-14*x1**3 + 0.999999999999667*x1**2 + 4.9471537977297e-13*x1 + 1.0*x2**2 - 4.88498130835069e-15*x2 - 2.34479102800833e-13,\n",
       " 1.00000000000006*x1**3 - 2.50466314355435e-13*x1**2 + 3.65929508916452e-13*x1 - 1.9928276424714e-16*x2**2 + 1.0*x2 - 1.727511363325e-13]"
      ]
     },
     "execution_count": 5,
     "metadata": {},
     "output_type": "execute_result"
    }
   ],
   "source": [
    "emulator.generate_forward_symb_emu()"
   ]
  },
  {
   "cell_type": "code",
   "execution_count": null,
   "id": "0c449e27",
   "metadata": {},
   "outputs": [],
   "source": []
  }
 ],
 "metadata": {
  "kernelspec": {
   "display_name": "astro_env",
   "language": "python",
   "name": "python3"
  },
  "language_info": {
   "codemirror_mode": {
    "name": "ipython",
    "version": 3
   },
   "file_extension": ".py",
   "mimetype": "text/x-python",
   "name": "python",
   "nbconvert_exporter": "python",
   "pygments_lexer": "ipython3",
   "version": "3.12.11"
  }
 },
 "nbformat": 4,
 "nbformat_minor": 5
}

{
 "cells": [
  {
   "cell_type": "code",
   "execution_count": 1,
   "id": "5d9d0df4",
   "metadata": {},
   "outputs": [],
   "source": [
    "from MomentEmu.PolyEmu import PolyEmu\n",
    "import numpy as np"
   ]
  },
  {
   "cell_type": "code",
   "execution_count": 4,
   "id": "58f16286",
   "metadata": {},
   "outputs": [
    {
     "name": "stdout",
     "output_type": "stream",
     "text": [
      "Using MomentEmu from: /Users/zzhang/Workspace/MomentEmu/src/MomentEmu\n"
     ]
    }
   ],
   "source": [
    "# print the path to verify the correct module is imported\n",
    "import MomentEmu\n",
    "import os\n",
    "print(\"Using MomentEmu from:\", os.path.dirname(os.path.abspath(MomentEmu.__file__)))\n"
   ]
  },
  {
   "cell_type": "code",
   "execution_count": 5,
   "id": "bc41dae4",
   "metadata": {},
   "outputs": [
    {
     "data": {
      "text/plain": [
       "(500, 2)"
      ]
     },
     "execution_count": 5,
     "metadata": {},
     "output_type": "execute_result"
    }
   ],
   "source": [
    "X_train = np.random.uniform(1, 2, (500, 2))\n",
    "Y_train1 = (X_train[:, 0]**2 + X_train[:, 1]**2).reshape(-1, 1)\n",
    "Y_train2 = (X_train[:, 0]**3 + X_train[:, 1]).reshape(-1, 1)\n",
    "Y_train = np.hstack((Y_train1, Y_train2))\n",
    "X_train.shape"
   ]
  },
  {
   "cell_type": "code",
   "execution_count": 6,
   "id": "d6933d9e",
   "metadata": {},
   "outputs": [
    {
     "name": "stdout",
     "output_type": "stream",
     "text": [
      "Generating forward emulator...\n",
      "Set max_degree_forward to 28. Otherwise, a higher degree will require more samples.\n",
      "Forward emulator generated with degree 3, RMSE_val of 3.263650063258278e-15.\n",
      "Performing dimension reduction...\n",
      "Dimension reduced  from 10 modes to 6 modes.\n",
      "After the dimension reduction, the RMSE: 1.6581730657369017e-15, AIC: -5092.958994212294, BIC: -28891.788432189453\n",
      "Generating backward emulator...\n",
      "Set max_degree_backward to 28. Otherwise, a higher degree will require more samples.\n",
      "Backward emulator generated with degree 4, RMSE_val of 0.005597758680015463.\n",
      "Performing dimension reduction...\n",
      "Dimension reduced  from 15 modes to 15  modes.\n",
      "After the dimension reduction, the RMSE: 0.005597758680015463, AIC: -747.8083495602372, BIC: -4316.799309974144\n"
     ]
    }
   ],
   "source": [
    "emulator = PolyEmu(X_train, Y_train, forward=True, backward=True)\n"
   ]
  },
  {
   "cell_type": "code",
   "execution_count": 8,
   "id": "292fbee3",
   "metadata": {},
   "outputs": [
    {
     "data": {
      "text/plain": [
       "[-1.37896863305896e-13*x1**3 + 1.00000000000062*x1**2 - 8.97558910699869e-13*x1 + 1.0*x2**2 - 8.88178419700125e-15*x2 + 4.29041999980105e-13,\n",
       " 1.00000000000003*x1**3 - 1.4388490399142e-13*x1**2 + 2.05169214950729e-13*x1 + 1.05330283265938e-15*x2**2 + 0.999999999999997*x2 - 9.1926466438963e-14]"
      ]
     },
     "execution_count": 8,
     "metadata": {},
     "output_type": "execute_result"
    }
   ],
   "source": [
    "emulator.generate_forward_symb_emu()"
   ]
  },
  {
   "cell_type": "code",
   "execution_count": null,
   "id": "162e5c52",
   "metadata": {},
   "outputs": [],
   "source": []
  }
 ],
 "metadata": {
  "kernelspec": {
   "display_name": "astro_env",
   "language": "python",
   "name": "python3"
  },
  "language_info": {
   "codemirror_mode": {
    "name": "ipython",
    "version": 3
   },
   "file_extension": ".py",
   "mimetype": "text/x-python",
   "name": "python",
   "nbconvert_exporter": "python",
   "pygments_lexer": "ipython3",
   "version": "3.12.11"
  }
 },
 "nbformat": 4,
 "nbformat_minor": 5
}

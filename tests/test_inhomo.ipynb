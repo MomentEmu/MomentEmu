{
 "cells": [
  {
   "cell_type": "code",
   "execution_count": null,
   "id": "5d9d0df4",
   "metadata": {},
   "outputs": [],
   "source": [
    "from MomentEmu.PolyEmu import PolyEmu\n",
    "import numpy as np"
   ]
  },
  {
   "cell_type": "code",
   "execution_count": 4,
   "id": "bc41dae4",
   "metadata": {},
   "outputs": [
    {
     "data": {
      "text/plain": [
       "(500, 2)"
      ]
     },
     "execution_count": 4,
     "metadata": {},
     "output_type": "execute_result"
    }
   ],
   "source": [
    "X_train = np.random.uniform(1, 2, (500, 2))\n",
    "Y_train1 = (X_train[:, 0]**2 + X_train[:, 1]**2).reshape(-1, 1)\n",
    "Y_train2 = (X_train[:, 0]**3 + X_train[:, 1]).reshape(-1, 1)\n",
    "Y_train = np.hstack((Y_train1, Y_train2))\n",
    "X_train.shape"
   ]
  },
  {
   "cell_type": "code",
   "execution_count": null,
   "id": "d6933d9e",
   "metadata": {},
   "outputs": [
    {
     "name": "stdout",
     "output_type": "stream",
     "text": [
      "Set max_degree_forward to 28. Otherwise, a higher degree will require more samples.\n",
      "Set max_degree_backward to 28. Otherwise, a higher degree will require more samples.\n",
      "Generating forward emulator...\n",
      "Forward emulator generated with degree 3, RMSE_val of 5.406676328293878e-15.\n",
      "Performing dimension reduction...\n",
      "Dimension reduced  from 10 modes to 6 modes.\n",
      "After the dimension reduction, the RMSE: 1.4516702264530869e-15, AIC: -5112.909243160627, BIC: -29004.839842896672\n",
      "Generating backward emulator...\n",
      "Backward emulator generated with degree 4, RMSE_val of 0.005591426132624079.\n",
      "Performing dimension reduction...\n",
      "Dimension reduced  from 15 modes to 15  modes.\n",
      "After the dimension reduction, the RMSE: 0.005591426132624079, AIC: -747.9781353357033, BIC: -4317.761429368452\n"
     ]
    }
   ],
   "source": [
    "emulator = PolyEmu(X_train, Y_train, forward=True, backward=True)\n"
   ]
  }
 ],
 "metadata": {
  "kernelspec": {
   "display_name": "astro_env",
   "language": "python",
   "name": "python3"
  },
  "language_info": {
   "codemirror_mode": {
    "name": "ipython",
    "version": 3
   },
   "file_extension": ".py",
   "mimetype": "text/x-python",
   "name": "python",
   "nbconvert_exporter": "python",
   "pygments_lexer": "ipython3",
   "version": "3.12.11"
  }
 },
 "nbformat": 4,
 "nbformat_minor": 5
}

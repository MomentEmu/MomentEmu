{
 "cells": [
  {
   "cell_type": "code",
   "execution_count": 1,
   "id": "5d9d0df4",
   "metadata": {},
   "outputs": [],
   "source": [
    "from MomentEmu.PolyEmu import PolyEmu\n",
    "import numpy as np"
   ]
  },
  {
   "cell_type": "code",
   "execution_count": 2,
   "id": "58f16286",
   "metadata": {},
   "outputs": [
    {
     "name": "stdout",
     "output_type": "stream",
     "text": [
      "Using MomentEmu from: /Users/zzhang/Workspace/MomentEmu/src/MomentEmu\n"
     ]
    }
   ],
   "source": [
    "# print the path to verify the correct module is imported\n",
    "import MomentEmu\n",
    "import os\n",
    "print(\"Using MomentEmu from:\", os.path.dirname(os.path.abspath(MomentEmu.__file__)))\n"
   ]
  },
  {
   "cell_type": "code",
   "execution_count": 3,
   "id": "bc41dae4",
   "metadata": {},
   "outputs": [
    {
     "data": {
      "text/plain": [
       "(500, 2)"
      ]
     },
     "execution_count": 3,
     "metadata": {},
     "output_type": "execute_result"
    }
   ],
   "source": [
    "X_train = np.random.uniform(1, 2, (500, 2))\n",
    "Y_train1 = (X_train[:, 0]**2 + X_train[:, 1]**2).reshape(-1, 1)\n",
    "Y_train2 = (X_train[:, 0]**3 + X_train[:, 1]).reshape(-1, 1)\n",
    "Y_train = np.hstack((Y_train1, Y_train2))\n",
    "X_train.shape"
   ]
  },
  {
   "cell_type": "code",
   "execution_count": 4,
   "id": "d6933d9e",
   "metadata": {},
   "outputs": [
    {
     "name": "stdout",
     "output_type": "stream",
     "text": [
      "Generating forward emulator...\n",
      "Set max_degree_forward to 28. Otherwise, a higher degree will require more samples.\n",
      "Forward emulator generated with degree 3, RMSE_val of 9.767478496387435e-15.\n",
      "Performing dimension reduction...\n",
      "Dimension reduced  from 10 modes to 6 modes.\n",
      "After the dimension reduction, the RMSE: 4.0408320628897035e-15, AIC: -4959.34886519743, BIC: -28134.664367771893\n",
      "Generating backward emulator...\n",
      "Set max_degree_backward to 28. Otherwise, a higher degree will require more samples.\n",
      "Backward emulator generated with degree 4, RMSE_val of 0.006024727339835413.\n",
      "Performing dimension reduction...\n",
      "Dimension reduced  from 15 modes to 15  modes.\n",
      "After the dimension reduction, the RMSE: 0.006024727339835413, AIC: -736.7824583142824, BIC: -4254.3192595804\n"
     ]
    }
   ],
   "source": [
    "emulator = PolyEmu(X_train, Y_train, forward=True, backward=True, standardize_Y_with_std=False)\n"
   ]
  },
  {
   "cell_type": "code",
   "execution_count": 5,
   "id": "292fbee3",
   "metadata": {},
   "outputs": [
    {
     "data": {
      "text/plain": [
       "[-1.62390919776473e-14*x1**3 + 1.00000000000007*x1**2 - 1.0856016260053e-13*x1 + 1.0*x2**2 - 1.33226762955019e-15*x2 + 5.45756119778393e-14,\n",
       " 1.00000000000026*x1**3 - 1.18660636871937e-12*x1**2 + 1.72839520473644e-12*x1 + 3.69844664945554e-15*x2**2 + 0.999999999999988*x2 - 8.04689648248313e-13]"
      ]
     },
     "execution_count": 5,
     "metadata": {},
     "output_type": "execute_result"
    }
   ],
   "source": [
    "emulator.generate_forward_symb_emu()"
   ]
  },
  {
   "cell_type": "code",
   "execution_count": 6,
   "id": "162e5c52",
   "metadata": {},
   "outputs": [
    {
     "name": "stdout",
     "output_type": "stream",
     "text": [
      "StandardScaler()\n",
      "[0.5 0.5]\n",
      "[[-1. -1.]\n",
      " [-1. -1.]\n",
      " [ 1.  1.]\n",
      " [ 1.  1.]]\n",
      "[[3. 3.]]\n"
     ]
    }
   ],
   "source": [
    "from sklearn.preprocessing import StandardScaler\n",
    "data = [[0, 0], [0, 0], [1, 1], [1, 1]]\n",
    "scaler = StandardScaler()\n",
    "print(scaler.fit(data))\n",
    "print(scaler.mean_)\n",
    "print(scaler.transform(data))\n",
    "print(scaler.transform([[2, 2]]))"
   ]
  },
  {
   "cell_type": "code",
   "execution_count": 7,
   "id": "ba62846f",
   "metadata": {},
   "outputs": [
    {
     "data": {
      "text/plain": [
       "array([0.25, 0.25])"
      ]
     },
     "execution_count": 7,
     "metadata": {},
     "output_type": "execute_result"
    }
   ],
   "source": [
    "scaler.var_"
   ]
  },
  {
   "cell_type": "code",
   "execution_count": null,
   "id": "0c449e27",
   "metadata": {},
   "outputs": [],
   "source": []
  }
 ],
 "metadata": {
  "kernelspec": {
   "display_name": "astro_env",
   "language": "python",
   "name": "python3"
  },
  "language_info": {
   "codemirror_mode": {
    "name": "ipython",
    "version": 3
   },
   "file_extension": ".py",
   "mimetype": "text/x-python",
   "name": "python",
   "nbconvert_exporter": "python",
   "pygments_lexer": "ipython3",
   "version": "3.12.11"
  }
 },
 "nbformat": 4,
 "nbformat_minor": 5
}
